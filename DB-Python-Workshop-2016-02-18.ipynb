{
 "cells": [
  {
   "cell_type": "markdown",
   "metadata": {},
   "source": [
    "# Intermediate Python Workshop\n",
    "\n",
    "## Agenda\n",
    "\n",
    "- Introductions\n",
    "- Motivation\n",
    "- Warm-ups\n",
    "    - sorted\n",
    "    - string slicing\n",
    "    - set\n",
    "- Fancy Python Shortcuts and Concepts and stuff\n",
    "    - List comprehensions\n",
    "    - Ternary operator\n",
    "    - Iterables\n",
    "    - Generators\n",
    "- Functional Programming\n",
    "    - Map\n",
    "    - Zip\n",
    "- Standard Library\n",
    "    - itertools\n",
    "    - random.choice\n",
    "    - pdb\n",
    "    - defaultdict\n",
    "- External \n",
    "    - Django, Flask (web frameworks)\n",
    "    - BeautifulSoup (scraping websites)\n",
    "    - numpy, matplotlib, jupyter (numerical/scientific computing)\n",
    "    - nltk (natural language processing)\n",
    "    - sklearn (machine learning and data science)\n",
    "- Community / Drama / Resources\n",
    "    - 2v3\n",
    "    - Conferences\n",
    "    - Udacity"
   ]
  },
  {
   "cell_type": "markdown",
   "metadata": {},
   "source": [
    "# Introduction\n",
    "\n",
    "## What you should already know\n",
    "\n",
    "- basic python syntax (for loops, variable declarations, strings)\n",
    "- basic python data structures (lists, dictionaries)\n",
    "- how to write functions in python\n",
    "\n",
    "## What is this workshop\n",
    "\n",
    "- The only real unifying theme of this talk is that it's going to be features of python that I (Simon) like or think are cool that go beyond the very basics of python. \n",
    "- [Not a beginner, not an expert](http://afabbro.github.io/jsconf2013/), [video](https://www.youtube.com/watch?v=v0TFmdO4ZP0) - good talk on being an intermediate programmer\n",
    "- Code / presentation is at https://github.com/simzou/python-workshop\n",
    "- This is a jupyter notebook, if you have it installed you can run the code in this talk by double clicking a code cell and hitting shift+enter. If you don't, don't worry about it, will talk about it later.\n",
    "\n",
    "\n",
    "# Motivation\n",
    "\n",
    "- Question for the audience: Why are you here?\n",
    "- Why I like python\n",
    "    - \"batteries included\"\n",
    "    - lots of features, but the syntax stays out of your way\n",
    "    - It's fun (name origin, code feels clean)"
   ]
  },
  {
   "cell_type": "code",
   "execution_count": null,
   "metadata": {
    "collapsed": true
   },
   "outputs": [],
   "source": [
    "import antigravity"
   ]
  },
  {
   "cell_type": "markdown",
   "metadata": {},
   "source": [
    "# Warm-ups\n",
    "## sorting\n",
    "- Tricking you into learning functional programming\n",
    "- Python docs [here](https://docs.python.org/2/howto/sorting.html)"
   ]
  },
  {
   "cell_type": "code",
   "execution_count": null,
   "metadata": {
    "collapsed": false
   },
   "outputs": [],
   "source": [
    "sentence = \"Thanks for coming to this python workshop! I think python is a neat language.\"\n",
    "# by default, split() uses whitespace as delimiters\n",
    "words = sentence.split()\n",
    "print \"words:\", words"
   ]
  },
  {
   "cell_type": "code",
   "execution_count": null,
   "metadata": {
    "collapsed": false
   },
   "outputs": [],
   "source": [
    "sorted_words = sorted(words)\n",
    "print \"sorted words:\", sorted_words"
   ]
  },
  {
   "cell_type": "code",
   "execution_count": null,
   "metadata": {
    "collapsed": false
   },
   "outputs": [],
   "source": [
    "sorted_words_by_length = sorted(words, key=len)\n",
    "print \"sorted words by length:\", sorted_words_by_length"
   ]
  },
  {
   "cell_type": "code",
   "execution_count": null,
   "metadata": {
    "collapsed": false
   },
   "outputs": [],
   "source": [
    "sorted_words_by_length_rev = sorted(words, key=len, reverse=True)\n",
    "print \"reversed:\", sorted_words_by_length_rev"
   ]
  },
  {
   "cell_type": "markdown",
   "metadata": {
    "collapsed": false
   },
   "source": [
    "## string slicing (and the step parameter)\n",
    "- useful for manipulating strings quickly\n",
    "- Interview question: Does this create new memory?"
   ]
  },
  {
   "cell_type": "code",
   "execution_count": null,
   "metadata": {
    "collapsed": false
   },
   "outputs": [],
   "source": [
    "introduction = \"Hi my name is Simon\"\n",
    "# get the whole string\n",
    "print introduction[:]\n",
    "# get whole thing starting from index 4\n",
    "print introduction[4:]\n",
    "# get up to index 8\n",
    "print introduction[:8]"
   ]
  },
  {
   "cell_type": "code",
   "execution_count": null,
   "metadata": {
    "collapsed": false
   },
   "outputs": [],
   "source": [
    "# get every other letter\n",
    "introduction[::2]"
   ]
  },
  {
   "cell_type": "code",
   "execution_count": null,
   "metadata": {
    "collapsed": false
   },
   "outputs": [],
   "source": [
    "# reverse the string\n",
    "introduction[::-1]"
   ]
  },
  {
   "cell_type": "code",
   "execution_count": null,
   "metadata": {
    "collapsed": false
   },
   "outputs": [],
   "source": [
    "# Also works in range()\n",
    "print range(0,20,2)"
   ]
  },
  {
   "cell_type": "markdown",
   "metadata": {},
   "source": [
    "## sets\n",
    "- same as the mathematical set, doesn't allow duplicates\n",
    "- so it's useful anytime you want to find unique elements, filter out duplicates, etc.\n",
    "- Python docs [here](https://docs.python.org/2/library/stdtypes.html#set-types-set-frozenset)"
   ]
  },
  {
   "cell_type": "code",
   "execution_count": null,
   "metadata": {
    "collapsed": false
   },
   "outputs": [],
   "source": [
    "repeats = \"Hi Hi My My Name Name is is Simon Simon\"\n",
    "bag_of_words = set(repeats.split())\n",
    "print \"Bag of words:\", bag_of_words"
   ]
  },
  {
   "cell_type": "code",
   "execution_count": null,
   "metadata": {
    "collapsed": false
   },
   "outputs": [],
   "source": [
    "word = \"bookkeeper\"\n",
    "print set(word)"
   ]
  },
  {
   "cell_type": "markdown",
   "metadata": {},
   "source": [
    "# Fancy Python Shortcuts \n",
    "\n",
    "also known as syntatic sugar\n",
    "\n",
    "## List Comprehensions\n",
    "- for making lists in one line"
   ]
  },
  {
   "cell_type": "code",
   "execution_count": null,
   "metadata": {
    "collapsed": false
   },
   "outputs": [],
   "source": [
    "# Making a list of perfect squares\n",
    "squares = []\n",
    "for i in range(10):\n",
    "    square = i * i\n",
    "    squares.append(square)\n",
    "print squares"
   ]
  },
  {
   "cell_type": "code",
   "execution_count": null,
   "metadata": {
    "collapsed": false
   },
   "outputs": [],
   "source": [
    "squares_lc = [i * i for i in range(10)]\n",
    "print squares_lc"
   ]
  },
  {
   "cell_type": "markdown",
   "metadata": {},
   "source": [
    "## Ternary Operator\n",
    "- for those too lazy to write an if else"
   ]
  },
  {
   "cell_type": "code",
   "execution_count": null,
   "metadata": {
    "collapsed": false
   },
   "outputs": [],
   "source": [
    "simon_is_hungry = False\n",
    "\n",
    "if simon_is_hungry:\n",
    "    words = '\"Give me food!\"'\n",
    "else:\n",
    "    words = '\"I am full\"'\n",
    "    \n",
    "print \"Simon says,\", words"
   ]
  },
  {
   "cell_type": "code",
   "execution_count": null,
   "metadata": {
    "collapsed": false
   },
   "outputs": [],
   "source": [
    "words = '\"Give me food!\"' if simon_is_hungry else '\"I am full\"'\n",
    "print \"Simon says,\", words"
   ]
  },
  {
   "cell_type": "markdown",
   "metadata": {},
   "source": [
    "## Combined, sort of\n",
    "- okay not really"
   ]
  },
  {
   "cell_type": "code",
   "execution_count": null,
   "metadata": {
    "collapsed": false
   },
   "outputs": [],
   "source": [
    "squares = [x*x for x in range(10) if x % 2 == 0]\n",
    "print squares"
   ]
  },
  {
   "cell_type": "markdown",
   "metadata": {},
   "source": [
    "## Functional Programming\n",
    "\n"
   ]
  },
  {
   "cell_type": "markdown",
   "metadata": {},
   "source": [
    "# The Standard Library\n",
    "## itertools library\n",
    "- As the name implies useful for iterating over stuff"
   ]
  },
  {
   "cell_type": "code",
   "execution_count": null,
   "metadata": {
    "collapsed": false
   },
   "outputs": [],
   "source": [
    "import itertools\n",
    "\n",
    "perms = itertools.permutations(\"ABCD\", 2)\n",
    "for p in perms:\n",
    "    print p"
   ]
  },
  {
   "cell_type": "code",
   "execution_count": null,
   "metadata": {
    "collapsed": false
   },
   "outputs": [],
   "source": [
    "combos = itertools.combinations(\"ABCD\", 2)\n",
    "for c in combos:\n",
    "    print c"
   ]
  },
  {
   "cell_type": "code",
   "execution_count": null,
   "metadata": {
    "collapsed": false
   },
   "outputs": [],
   "source": [
    "# what is this?\n",
    "print combos"
   ]
  },
  {
   "cell_type": "markdown",
   "metadata": {},
   "source": [
    "# A detour - Some python concepts\n",
    "## Iterables and iterators\n",
    "- Iterable definition: \"An iterable is an object that has an __iter__ method which returns an iterator\"\n",
    "- Iterator definition: \"An iterator is an object with a next method\"\n",
    "- References: [Stack Overflow](http://stackoverflow.com/questions/9884132/what-exactly-are-pythons-iterator-iterable-and-iteration-protocols) and [Some dude's blog](http://nvie.com/posts/iterators-vs-generators/)\n",
    "\n",
    "\n",
    "- My definition: Iterable is anything you can do a for loop on. In python this is all the basic data structures like lists and dictionaries, but also strings (loop through characters) and files (loop through lines).\n",
    "- Iterator: Object that you can call next on\n",
    "\n",
    "\n",
    "- So `combos` is clearly an iterable, but the type is not that of a collection (data structure that holds stuff); it is a **generator**\n",
    "\n",
    "## Generators and the `yield` keyword"
   ]
  },
  {
   "cell_type": "code",
   "execution_count": null,
   "metadata": {
    "collapsed": false
   },
   "outputs": [],
   "source": [
    "# This code doesn't really make sense but bear with me\n",
    "def count_using_return():\n",
    "    count = 0\n",
    "    while(count < 10):\n",
    "        count += 1\n",
    "        return count\n",
    "    \n",
    "def count_using_yield():\n",
    "    count = 0\n",
    "    while (count < 10):\n",
    "        count += 1\n",
    "        yield count"
   ]
  },
  {
   "cell_type": "code",
   "execution_count": null,
   "metadata": {
    "collapsed": false
   },
   "outputs": [],
   "source": [
    "r = count_using_return()\n",
    "print \"r:\", r\n",
    "y = count_using_yield()\n",
    "print \"y:\", count_using_yield()\n"
   ]
  },
  {
   "cell_type": "code",
   "execution_count": null,
   "metadata": {
    "collapsed": false
   },
   "outputs": [],
   "source": [
    "for c in count_using_yield():\n",
    "    print c"
   ]
  },
  {
   "cell_type": "markdown",
   "metadata": {
    "collapsed": true
   },
   "source": [
    "### So why is this helpful? \n",
    "\n",
    "- Generators take up less space, and defer computation and access until when you need it. \n",
    "- `range(10)` creates the list of 10 integers\n",
    "- `xrange(10)` creates a generator\n",
    "- Since xrange is more efficient, in Python 3, implementation of `range` is replaced with `xrange`\n",
    "\n",
    "\n",
    "- This was a long way of saying `itertools.combinations` object is a generator"
   ]
  },
  {
   "cell_type": "code",
   "execution_count": null,
   "metadata": {
    "collapsed": false
   },
   "outputs": [],
   "source": [
    "print type(range(10))\n",
    "print type(xrange(10))"
   ]
  },
  {
   "cell_type": "code",
   "execution_count": null,
   "metadata": {
    "collapsed": false
   },
   "outputs": [],
   "source": []
  },
  {
   "cell_type": "code",
   "execution_count": null,
   "metadata": {
    "collapsed": true
   },
   "outputs": [],
   "source": []
  }
 ],
 "metadata": {
  "kernelspec": {
   "display_name": "Python 2",
   "language": "python",
   "name": "python2"
  },
  "language_info": {
   "codemirror_mode": {
    "name": "ipython",
    "version": 2
   },
   "file_extension": ".py",
   "mimetype": "text/x-python",
   "name": "python",
   "nbconvert_exporter": "python",
   "pygments_lexer": "ipython2",
   "version": "2.7.10"
  }
 },
 "nbformat": 4,
 "nbformat_minor": 0
}
