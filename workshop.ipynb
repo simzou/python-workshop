{
 "cells": [
  {
   "cell_type": "markdown",
   "metadata": {},
   "source": [
    "# Intermediate Python Workshop\n",
    "\n",
    "## Agenda\n",
    "\n",
    "- Introductions\n",
    "- Motivation\n",
    "- Warm-ups\n",
    "    - sorted\n",
    "    - string slicing\n",
    "    - set\n",
    "- Fancy Python Shortcuts and Concepts and stuff\n",
    "    - List comprehensions\n",
    "    - Ternary operator\n",
    "    - Iterables\n",
    "    - Generators\n",
    "- Functional Programming\n",
    "    - Map\n",
    "    - Filter\n",
    "- Standard Library\n",
    "    - itertools\n",
    "    - random\n",
    "    - pdb\n",
    "    - defaultdict\n",
    "- External \n",
    "    - Django, Flask (web frameworks)\n",
    "    - BeautifulSoup (scraping websites)\n",
    "    - numpy, matplotlib, jupyter (numerical/scientific computing)\n",
    "    - nltk (natural language processing)\n",
    "    - sklearn (machine learning and data science)\n",
    "- The python toolkit\n",
    "    - pip\n",
    "    - virtualenv\n",
    "- Community / Drama / Resources\n",
    "    - 2v3\n",
    "    - Conferences\n",
    "    - Udacity"
   ]
  },
  {
   "cell_type": "markdown",
   "metadata": {},
   "source": [
    "# Introduction\n",
    "\n",
    "## What you should already know\n",
    "\n",
    "- basic python syntax (for loops, variable declarations, strings)\n",
    "- basic python data structures (lists, dictionaries)\n",
    "- how to write functions in python\n",
    "\n",
    "## What is this workshop\n",
    "\n",
    "- The only real unifying theme of this talk is that it's going to be features of python that I (Simon) like or think are cool / interesting / useful about python that go beyond the basics.\n",
    "- [Not a beginner, not an expert](http://afabbro.github.io/jsconf2013/), [video](https://www.youtube.com/watch?v=v0TFmdO4ZP0) - good talk on being an intermediate programmer\n",
    "- Code / presentation is at https://github.com/simzou/python-workshop\n",
    "- This is a jupyter notebook, if you have it installed you can run the code in this talk by double clicking a code cell and hitting shift+enter. If you don't, don't worry about it, will talk about it later.\n",
    "\n",
    "\n",
    "# Motivation\n",
    "\n",
    "- Question for the audience: Why are you here?\n",
    "- Why I like python\n",
    "    - \"batteries included\"\n",
    "    - lots of features, but the syntax stays out of your way\n",
    "    - lots of mature libraries\n",
    "    - It's fun (name origin, code feels clean)"
   ]
  },
  {
   "cell_type": "code",
   "execution_count": null,
   "metadata": {
    "collapsed": true
   },
   "outputs": [],
   "source": [
    "# try this\n",
    "import antigravity"
   ]
  },
  {
   "cell_type": "markdown",
   "metadata": {},
   "source": [
    "# Warm-ups\n",
    "## sorting\n",
    "- Tricking you into learning functional programming\n",
    "- Python docs [here](https://docs.python.org/2/howto/sorting.html)"
   ]
  },
  {
   "cell_type": "code",
   "execution_count": 1,
   "metadata": {
    "collapsed": false
   },
   "outputs": [
    {
     "name": "stdout",
     "output_type": "stream",
     "text": [
      "words: ['Thanks', 'for', 'coming', 'to', 'this', 'python', 'workshop!', 'I', 'think', 'python', 'is', 'a', 'neat', 'language.']\n"
     ]
    }
   ],
   "source": [
    "sentence = \"Thanks for coming to this python workshop! I think python is a neat language.\"\n",
    "# by default, split() uses whitespace as delimiters\n",
    "words = sentence.split()\n",
    "print \"words:\", words"
   ]
  },
  {
   "cell_type": "code",
   "execution_count": 2,
   "metadata": {
    "collapsed": false
   },
   "outputs": [
    {
     "name": "stdout",
     "output_type": "stream",
     "text": [
      "sorted words: ['I', 'Thanks', 'a', 'coming', 'for', 'is', 'language.', 'neat', 'python', 'python', 'think', 'this', 'to', 'workshop!']\n"
     ]
    }
   ],
   "source": [
    "sorted_words = sorted(words)\n",
    "print \"sorted words:\", sorted_words"
   ]
  },
  {
   "cell_type": "code",
   "execution_count": 3,
   "metadata": {
    "collapsed": false
   },
   "outputs": [
    {
     "name": "stdout",
     "output_type": "stream",
     "text": [
      "sorted words by length: ['I', 'a', 'to', 'is', 'for', 'this', 'neat', 'think', 'Thanks', 'coming', 'python', 'python', 'workshop!', 'language.']\n"
     ]
    }
   ],
   "source": [
    "sorted_words_by_length = sorted(words, key=len)\n",
    "print \"sorted words by length:\", sorted_words_by_length"
   ]
  },
  {
   "cell_type": "code",
   "execution_count": 4,
   "metadata": {
    "collapsed": false
   },
   "outputs": [
    {
     "name": "stdout",
     "output_type": "stream",
     "text": [
      "reversed: ['workshop!', 'language.', 'Thanks', 'coming', 'python', 'python', 'think', 'this', 'neat', 'for', 'to', 'is', 'I', 'a']\n"
     ]
    }
   ],
   "source": [
    "sorted_words_by_length_rev = sorted(words, key=len, reverse=True)\n",
    "print \"reversed:\", sorted_words_by_length_rev"
   ]
  },
  {
   "cell_type": "markdown",
   "metadata": {
    "collapsed": false
   },
   "source": [
    "## string slicing (and the step parameter)\n",
    "- useful for manipulating strings quickly\n",
    "- Interview question: Does this create new memory?"
   ]
  },
  {
   "cell_type": "code",
   "execution_count": 5,
   "metadata": {
    "collapsed": false
   },
   "outputs": [
    {
     "name": "stdout",
     "output_type": "stream",
     "text": [
      "Hi my name is Simon\n",
      "y name is Simon\n",
      "Hi my na\n"
     ]
    }
   ],
   "source": [
    "introduction = \"Hi my name is Simon\"\n",
    "# get the whole string\n",
    "print introduction[:]\n",
    "# get whole thing starting from index 4\n",
    "print introduction[4:]\n",
    "# get up to index 8\n",
    "print introduction[:8]"
   ]
  },
  {
   "cell_type": "code",
   "execution_count": 6,
   "metadata": {
    "collapsed": false
   },
   "outputs": [
    {
     "data": {
      "text/plain": [
       "'H ynm sSmn'"
      ]
     },
     "execution_count": 6,
     "metadata": {},
     "output_type": "execute_result"
    }
   ],
   "source": [
    "# get every other letter\n",
    "introduction[::2]"
   ]
  },
  {
   "cell_type": "code",
   "execution_count": 7,
   "metadata": {
    "collapsed": false
   },
   "outputs": [
    {
     "data": {
      "text/plain": [
       "'nomiS si eman ym iH'"
      ]
     },
     "execution_count": 7,
     "metadata": {},
     "output_type": "execute_result"
    }
   ],
   "source": [
    "# reverse the string\n",
    "introduction[::-1]"
   ]
  },
  {
   "cell_type": "code",
   "execution_count": 8,
   "metadata": {
    "collapsed": false
   },
   "outputs": [
    {
     "name": "stdout",
     "output_type": "stream",
     "text": [
      "[0, 2, 4, 6, 8, 10, 12, 14, 16, 18]\n"
     ]
    }
   ],
   "source": [
    "# Also works in range()\n",
    "print range(0,20,2)"
   ]
  },
  {
   "cell_type": "markdown",
   "metadata": {},
   "source": [
    "## sets\n",
    "- same as the mathematical set, doesn't allow duplicates\n",
    "- so it's useful anytime you want to find unique elements, filter out duplicates, etc.\n",
    "- Python docs [here](https://docs.python.org/2/library/stdtypes.html#set-types-set-frozenset)"
   ]
  },
  {
   "cell_type": "code",
   "execution_count": 9,
   "metadata": {
    "collapsed": false
   },
   "outputs": [
    {
     "name": "stdout",
     "output_type": "stream",
     "text": [
      "Bag of words: set(['Simon', 'is', 'Hi', 'My', 'Name'])\n"
     ]
    }
   ],
   "source": [
    "repeats = \"Hi Hi My My Name Name is is Simon Simon\"\n",
    "bag_of_words = set(repeats.split())\n",
    "print \"Bag of words:\", bag_of_words"
   ]
  },
  {
   "cell_type": "code",
   "execution_count": 10,
   "metadata": {
    "collapsed": false
   },
   "outputs": [
    {
     "name": "stdout",
     "output_type": "stream",
     "text": [
      "set(['b', 'e', 'k', 'o', 'p', 'r'])\n"
     ]
    }
   ],
   "source": [
    "word = \"bookkeeper\"\n",
    "print set(word)"
   ]
  },
  {
   "cell_type": "markdown",
   "metadata": {},
   "source": [
    "# Fancy Python Shortcuts \n",
    "\n",
    "also known as syntatic sugar\n",
    "\n",
    "## List Comprehensions\n",
    "- for making lists in one line"
   ]
  },
  {
   "cell_type": "code",
   "execution_count": 11,
   "metadata": {
    "collapsed": false
   },
   "outputs": [
    {
     "name": "stdout",
     "output_type": "stream",
     "text": [
      "[0, 1, 4, 9, 16, 25, 36, 49, 64, 81]\n"
     ]
    }
   ],
   "source": [
    "# Making a list of perfect squares\n",
    "squares = []\n",
    "for i in range(10):\n",
    "    square = i * i\n",
    "    squares.append(square)\n",
    "print squares"
   ]
  },
  {
   "cell_type": "code",
   "execution_count": 12,
   "metadata": {
    "collapsed": false
   },
   "outputs": [
    {
     "name": "stdout",
     "output_type": "stream",
     "text": [
      "[0, 1, 4, 9, 16, 25, 36, 49, 64, 81]\n"
     ]
    }
   ],
   "source": [
    "squares_lc = [i * i for i in range(10)]\n",
    "print squares_lc"
   ]
  },
  {
   "cell_type": "markdown",
   "metadata": {},
   "source": [
    "## Ternary Operator\n",
    "- for those too lazy to write an if else"
   ]
  },
  {
   "cell_type": "code",
   "execution_count": 13,
   "metadata": {
    "collapsed": false
   },
   "outputs": [
    {
     "name": "stdout",
     "output_type": "stream",
     "text": [
      "Simon says, \"I am full\"\n"
     ]
    }
   ],
   "source": [
    "simon_is_hungry = False\n",
    "\n",
    "if simon_is_hungry:\n",
    "    words = '\"Give me food!\"'\n",
    "else:\n",
    "    words = '\"I am full\"'\n",
    "    \n",
    "print \"Simon says,\", words"
   ]
  },
  {
   "cell_type": "code",
   "execution_count": 14,
   "metadata": {
    "collapsed": false
   },
   "outputs": [
    {
     "name": "stdout",
     "output_type": "stream",
     "text": [
      "Simon says, \"I am full\"\n"
     ]
    }
   ],
   "source": [
    "words = '\"Give me food!\"' if simon_is_hungry else '\"I am full\"'\n",
    "print \"Simon says,\", words"
   ]
  },
  {
   "cell_type": "markdown",
   "metadata": {},
   "source": [
    "## Combined, sort of\n",
    "- okay not really"
   ]
  },
  {
   "cell_type": "code",
   "execution_count": 15,
   "metadata": {
    "collapsed": false
   },
   "outputs": [
    {
     "name": "stdout",
     "output_type": "stream",
     "text": [
      "[0, 4, 16, 36, 64]\n"
     ]
    }
   ],
   "source": [
    "squares = [x*x for x in range(10) if x % 2 == 0]\n",
    "print squares"
   ]
  },
  {
   "cell_type": "markdown",
   "metadata": {},
   "source": [
    "On the agenda it says we're going to cover iterables and generators next, but I think it's easier to explain if I start with something else:\n",
    "\n",
    "# A detour to the Standard Library\n",
    "## itertools library\n",
    "- As the name implies useful for iterating over stuff"
   ]
  },
  {
   "cell_type": "code",
   "execution_count": 16,
   "metadata": {
    "collapsed": false
   },
   "outputs": [
    {
     "name": "stdout",
     "output_type": "stream",
     "text": [
      "('A', 'B')\n",
      "('A', 'C')\n",
      "('A', 'D')\n",
      "('B', 'A')\n",
      "('B', 'C')\n",
      "('B', 'D')\n",
      "('C', 'A')\n",
      "('C', 'B')\n",
      "('C', 'D')\n",
      "('D', 'A')\n",
      "('D', 'B')\n",
      "('D', 'C')\n"
     ]
    }
   ],
   "source": [
    "import itertools\n",
    "\n",
    "perms = itertools.permutations(\"ABCD\", 2)\n",
    "for p in perms:\n",
    "    print p"
   ]
  },
  {
   "cell_type": "code",
   "execution_count": 17,
   "metadata": {
    "collapsed": false
   },
   "outputs": [
    {
     "name": "stdout",
     "output_type": "stream",
     "text": [
      "('A', 'B')\n",
      "('A', 'C')\n",
      "('A', 'D')\n",
      "('B', 'C')\n",
      "('B', 'D')\n",
      "('C', 'D')\n"
     ]
    }
   ],
   "source": [
    "combos = itertools.combinations(\"ABCD\", 2)\n",
    "for c in combos:\n",
    "    print c"
   ]
  },
  {
   "cell_type": "code",
   "execution_count": 18,
   "metadata": {
    "collapsed": false
   },
   "outputs": [
    {
     "name": "stdout",
     "output_type": "stream",
     "text": [
      "<itertools.combinations object at 0x104663578>\n"
     ]
    }
   ],
   "source": [
    "# what is this?\n",
    "print combos"
   ]
  },
  {
   "cell_type": "markdown",
   "metadata": {},
   "source": [
    "# Some python concepts\n",
    "## Iterables and iterators\n",
    "- Iterable definition: \"An iterable is an object that has an __iter__ method which returns an iterator\"\n",
    "- Iterator definition: \"An iterator is an object with a next method\"\n",
    "- References: [Stack Overflow](http://stackoverflow.com/questions/9884132/what-exactly-are-pythons-iterator-iterable-and-iteration-protocols) and [Some dude's blog](http://nvie.com/posts/iterators-vs-generators/)\n",
    "\n",
    "\n",
    "- My definition: Iterable is anything you can do a for loop on. In python this is all the basic data structures like lists and dictionaries, but also strings (loop through characters) and files (loop through lines).\n",
    "- Iterator: Object that you can call next on\n",
    "\n",
    "\n",
    "- So `combos` is clearly an iterable, but the type is not that of a collection (data structure that holds stuff); it is a **generator**\n",
    "\n",
    "## Generators and the `yield` keyword"
   ]
  },
  {
   "cell_type": "code",
   "execution_count": 19,
   "metadata": {
    "collapsed": false
   },
   "outputs": [],
   "source": [
    "# This code doesn't really make sense but bear with me\n",
    "def count_using_return():\n",
    "    count = 0\n",
    "    while(count < 10):\n",
    "        count += 1\n",
    "        return count\n",
    "    \n",
    "def count_using_yield():\n",
    "    count = 0\n",
    "    while (count < 10):\n",
    "        count += 1\n",
    "        yield count"
   ]
  },
  {
   "cell_type": "code",
   "execution_count": 20,
   "metadata": {
    "collapsed": false
   },
   "outputs": [
    {
     "name": "stdout",
     "output_type": "stream",
     "text": [
      "r: 1\n",
      "y: <generator object count_using_yield at 0x104644cd0>\n"
     ]
    }
   ],
   "source": [
    "r = count_using_return()\n",
    "print \"r:\", r\n",
    "y = count_using_yield()\n",
    "print \"y:\", count_using_yield()\n"
   ]
  },
  {
   "cell_type": "code",
   "execution_count": 21,
   "metadata": {
    "collapsed": false
   },
   "outputs": [
    {
     "name": "stdout",
     "output_type": "stream",
     "text": [
      "1\n",
      "2\n",
      "3\n",
      "4\n",
      "5\n",
      "6\n",
      "7\n",
      "8\n",
      "9\n",
      "10\n"
     ]
    }
   ],
   "source": [
    "for c in count_using_yield():\n",
    "    print c"
   ]
  },
  {
   "cell_type": "markdown",
   "metadata": {
    "collapsed": true
   },
   "source": [
    "### So why is this helpful? \n",
    "\n",
    "- Generators take up less space, and defer computation and access until when you need it. \n",
    "- `range(10)` creates the list of 10 integers\n",
    "- `xrange(10)` creates a generator\n",
    "- Since xrange is more efficient, in Python 3, implementation of `range` is replaced with `xrange`\n",
    "\n",
    "\n",
    "- This was a long way of saying `itertools.combinations` object is a generator"
   ]
  },
  {
   "cell_type": "code",
   "execution_count": 22,
   "metadata": {
    "collapsed": false
   },
   "outputs": [
    {
     "name": "stdout",
     "output_type": "stream",
     "text": [
      "<type 'list'>\n",
      "<type 'xrange'>\n"
     ]
    }
   ],
   "source": [
    "print type(range(10))\n",
    "print type(xrange(10))"
   ]
  },
  {
   "cell_type": "markdown",
   "metadata": {
    "collapsed": false
   },
   "source": [
    "# Functional Programming\n",
    "\n",
    "Wikipedia definition: \"programming paradigm—a style of building the structure and elements of computer programs—that treats computation as the evaluation of mathematical functions and avoids changing-state and mutable data.\"\n",
    "\n",
    "My definition: When you pass functions as parameters to other functions \n",
    "\n",
    "## built in python methods - map, filter\n",
    "\n",
    "### map - apply a function to every element"
   ]
  },
  {
   "cell_type": "code",
   "execution_count": 3,
   "metadata": {
    "collapsed": false
   },
   "outputs": [
    {
     "data": {
      "text/plain": [
       "[2, 2, 4, 2, 5]"
      ]
     },
     "execution_count": 3,
     "metadata": {},
     "output_type": "execute_result"
    }
   ],
   "source": [
    "words = \"Hi my name is Simon\".split()\n",
    "# ['Hi', 'my', 'name', 'is', 'Simon']\n",
    "# get the length of each word\n",
    "map(len, words)"
   ]
  },
  {
   "cell_type": "markdown",
   "metadata": {
    "collapsed": true
   },
   "source": [
    "### lambda functions - functions without a name\n"
   ]
  },
  {
   "cell_type": "code",
   "execution_count": 10,
   "metadata": {
    "collapsed": false
   },
   "outputs": [],
   "source": [
    "def add(x,y):\n",
    "    return x + y\n",
    "\n",
    "# is equivalent to \n",
    "\n",
    "add = lambda x,y:  x + y"
   ]
  },
  {
   "cell_type": "code",
   "execution_count": 11,
   "metadata": {
    "collapsed": false
   },
   "outputs": [
    {
     "data": {
      "text/plain": [
       "['HI', 'MY', 'NAME', 'IS', 'SIMON']"
      ]
     },
     "execution_count": 11,
     "metadata": {},
     "output_type": "execute_result"
    }
   ],
   "source": [
    "map(lambda x: x.upper(), words)"
   ]
  },
  {
   "cell_type": "markdown",
   "metadata": {},
   "source": [
    "### filter - filters things"
   ]
  },
  {
   "cell_type": "code",
   "execution_count": 12,
   "metadata": {
    "collapsed": false
   },
   "outputs": [
    {
     "data": {
      "text/plain": [
       "[0, 2, 4, 6, 8, 10, 12, 14, 16, 18]"
      ]
     },
     "execution_count": 12,
     "metadata": {},
     "output_type": "execute_result"
    }
   ],
   "source": [
    "# even numbers\n",
    "filter(lambda x: x % 2 == 0, range(20))"
   ]
  },
  {
   "cell_type": "code",
   "execution_count": 13,
   "metadata": {
    "collapsed": false
   },
   "outputs": [
    {
     "data": {
      "text/plain": [
       "['Hi', 'My', 'is']"
      ]
     },
     "execution_count": 13,
     "metadata": {},
     "output_type": "execute_result"
    }
   ],
   "source": [
    "# get all words from sentence with 3 or fewer letters\n",
    "filter(lambda x: len(x) <= 3, \"Hi My Name is Simon\".split())"
   ]
  },
  {
   "cell_type": "markdown",
   "metadata": {},
   "source": [
    "# Back to the Standard Library\n",
    "\n",
    "## random\n",
    "\n",
    "- lots of stuff in here, the things I find most useful is `random.choice` and `random.sample`\n",
    "- [Python docs](https://docs.python.org/2/library/random.html)"
   ]
  },
  {
   "cell_type": "code",
   "execution_count": 24,
   "metadata": {
    "collapsed": false
   },
   "outputs": [
    {
     "name": "stdout",
     "output_type": "stream",
     "text": [
      "1\n",
      "9\n",
      "9\n",
      "7\n",
      "1\n"
     ]
    }
   ],
   "source": [
    "import random\n",
    "\n",
    "numbers = range(10)\n",
    "\n",
    "for _ in range(5):\n",
    "    print random.choice(numbers)"
   ]
  },
  {
   "cell_type": "code",
   "execution_count": 23,
   "metadata": {
    "collapsed": false
   },
   "outputs": [
    {
     "data": {
      "text/plain": [
       "[5, 1, 6, 7, 2]"
      ]
     },
     "execution_count": 23,
     "metadata": {},
     "output_type": "execute_result"
    }
   ],
   "source": [
    "random.sample(numbers, 5)"
   ]
  },
  {
   "cell_type": "markdown",
   "metadata": {
    "collapsed": true
   },
   "source": [
    "## pdb - because you miss gdb\n",
    "- Use `pdb.set_trace()` to set a breakpoint"
   ]
  },
  {
   "cell_type": "code",
   "execution_count": 31,
   "metadata": {
    "collapsed": false
   },
   "outputs": [
    {
     "name": "stdout",
     "output_type": "stream",
     "text": [
      "--Return--\n",
      "> <ipython-input-31-81639141f23c>(5)<module>()->None\n",
      "-> pdb.set_trace()\n",
      "(Pdb) x\n",
      "4\n",
      "(Pdb) z\n",
      "*** NameError: name 'z' is not defined\n",
      "(Pdb) exit()\n"
     ]
    },
    {
     "ename": "BdbQuit",
     "evalue": "",
     "output_type": "error",
     "traceback": [
      "\u001b[0;31m---------------------------------------------------------------------------\u001b[0m",
      "\u001b[0;31mBdbQuit\u001b[0m                                   Traceback (most recent call last)",
      "\u001b[0;32m<ipython-input-31-81639141f23c>\u001b[0m in \u001b[0;36m<module>\u001b[0;34m()\u001b[0m\n\u001b[1;32m      3\u001b[0m \u001b[0mx\u001b[0m \u001b[0;34m=\u001b[0m \u001b[0;36m4\u001b[0m\u001b[0;34m\u001b[0m\u001b[0m\n\u001b[1;32m      4\u001b[0m \u001b[0my\u001b[0m \u001b[0;34m=\u001b[0m \u001b[0;36m5\u001b[0m\u001b[0;34m\u001b[0m\u001b[0m\n\u001b[0;32m----> 5\u001b[0;31m \u001b[0mpdb\u001b[0m\u001b[0;34m.\u001b[0m\u001b[0mset_trace\u001b[0m\u001b[0;34m(\u001b[0m\u001b[0;34m)\u001b[0m\u001b[0;34m\u001b[0m\u001b[0m\n\u001b[0m\u001b[1;32m      6\u001b[0m \u001b[0mz\u001b[0m \u001b[0;34m=\u001b[0m \u001b[0;36m6\u001b[0m\u001b[0;34m\u001b[0m\u001b[0m\n",
      "\u001b[0;32m/Users/simon/anaconda/lib/python2.7/bdb.pyc\u001b[0m in \u001b[0;36mtrace_dispatch\u001b[0;34m(self, frame, event, arg)\u001b[0m\n\u001b[1;32m     51\u001b[0m             \u001b[0;32mreturn\u001b[0m \u001b[0mself\u001b[0m\u001b[0;34m.\u001b[0m\u001b[0mdispatch_call\u001b[0m\u001b[0;34m(\u001b[0m\u001b[0mframe\u001b[0m\u001b[0;34m,\u001b[0m \u001b[0marg\u001b[0m\u001b[0;34m)\u001b[0m\u001b[0;34m\u001b[0m\u001b[0m\n\u001b[1;32m     52\u001b[0m         \u001b[0;32mif\u001b[0m \u001b[0mevent\u001b[0m \u001b[0;34m==\u001b[0m \u001b[0;34m'return'\u001b[0m\u001b[0;34m:\u001b[0m\u001b[0;34m\u001b[0m\u001b[0m\n\u001b[0;32m---> 53\u001b[0;31m             \u001b[0;32mreturn\u001b[0m \u001b[0mself\u001b[0m\u001b[0;34m.\u001b[0m\u001b[0mdispatch_return\u001b[0m\u001b[0;34m(\u001b[0m\u001b[0mframe\u001b[0m\u001b[0;34m,\u001b[0m \u001b[0marg\u001b[0m\u001b[0;34m)\u001b[0m\u001b[0;34m\u001b[0m\u001b[0m\n\u001b[0m\u001b[1;32m     54\u001b[0m         \u001b[0;32mif\u001b[0m \u001b[0mevent\u001b[0m \u001b[0;34m==\u001b[0m \u001b[0;34m'exception'\u001b[0m\u001b[0;34m:\u001b[0m\u001b[0;34m\u001b[0m\u001b[0m\n\u001b[1;32m     55\u001b[0m             \u001b[0;32mreturn\u001b[0m \u001b[0mself\u001b[0m\u001b[0;34m.\u001b[0m\u001b[0mdispatch_exception\u001b[0m\u001b[0;34m(\u001b[0m\u001b[0mframe\u001b[0m\u001b[0;34m,\u001b[0m \u001b[0marg\u001b[0m\u001b[0;34m)\u001b[0m\u001b[0;34m\u001b[0m\u001b[0m\n",
      "\u001b[0;32m/Users/simon/anaconda/lib/python2.7/bdb.pyc\u001b[0m in \u001b[0;36mdispatch_return\u001b[0;34m(self, frame, arg)\u001b[0m\n\u001b[1;32m     89\u001b[0m             \u001b[0;32mfinally\u001b[0m\u001b[0;34m:\u001b[0m\u001b[0;34m\u001b[0m\u001b[0m\n\u001b[1;32m     90\u001b[0m                 \u001b[0mself\u001b[0m\u001b[0;34m.\u001b[0m\u001b[0mframe_returning\u001b[0m \u001b[0;34m=\u001b[0m \u001b[0mNone\u001b[0m\u001b[0;34m\u001b[0m\u001b[0m\n\u001b[0;32m---> 91\u001b[0;31m             \u001b[0;32mif\u001b[0m \u001b[0mself\u001b[0m\u001b[0;34m.\u001b[0m\u001b[0mquitting\u001b[0m\u001b[0;34m:\u001b[0m \u001b[0;32mraise\u001b[0m \u001b[0mBdbQuit\u001b[0m\u001b[0;34m\u001b[0m\u001b[0m\n\u001b[0m\u001b[1;32m     92\u001b[0m         \u001b[0;32mreturn\u001b[0m \u001b[0mself\u001b[0m\u001b[0;34m.\u001b[0m\u001b[0mtrace_dispatch\u001b[0m\u001b[0;34m\u001b[0m\u001b[0m\n\u001b[1;32m     93\u001b[0m \u001b[0;34m\u001b[0m\u001b[0m\n",
      "\u001b[0;31mBdbQuit\u001b[0m: "
     ]
    }
   ],
   "source": [
    "import pdb\n",
    "\n",
    "x = 4\n",
    "y = 5\n",
    "pdb.set_trace()\n",
    "z = 6"
   ]
  },
  {
   "cell_type": "markdown",
   "metadata": {},
   "source": [
    "## collections - fancy containers\n",
    "\n",
    "### defaultdict - dictionaries with default values for keys"
   ]
  },
  {
   "cell_type": "code",
   "execution_count": 33,
   "metadata": {
    "collapsed": false
   },
   "outputs": [
    {
     "name": "stdout",
     "output_type": "stream",
     "text": [
      "[]\n"
     ]
    }
   ],
   "source": [
    "from collections import defaultdict\n",
    "\n",
    "dd = defaultdict(list)\n",
    "print dd['keyIhaventseenbefore']"
   ]
  },
  {
   "cell_type": "markdown",
   "metadata": {},
   "source": [
    "# The Python Ecosystem - External Libraries\n",
    "\n",
    "Beautiful thing about python is that other people like it and build libraries to do useful stuff for it.\n",
    "\n",
    "- Django, Flask (web frameworks)\n",
    "- BeautifulSoup (scraping websites)\n",
    "- numpy, matplotlib, jupyter (numerical/scientific computing)\n",
    "- nltk (natural language processing)\n",
    "- sklearn (machine learning and data science)\n",
    "\n",
    "## Libaries for managing these libraries\n",
    "\n",
    "- pip (python package manager)\n",
    "    - e.g. `pip install django`\n",
    "- virtualenv (create a contained python environment)\n",
    "    - for managing different versions of libraries"
   ]
  },
  {
   "cell_type": "markdown",
   "metadata": {},
   "source": [
    "# Community\n",
    "\n",
    "- Big python conferences are called PyCon, they happen around the world\n",
    "- There's also separate conferences for SciPy, Django, ... \n",
    "- [SoCal Python Meetup Group](http://www.meetup.com/socalpython/)\n",
    "- [Pyladies](www.pyladies.com)\n",
    "- I've never been to any python conferences, but here's a description from Paul Ford's beautiful article / novella [What is Code](http://www.bloomberg.com/graphics/2015-paul-ford-what-is-code/): \n",
    "\n",
    "> Tech conferences look like you’d expect. Tons of people at a Sheraton, keynote in Ballroom D. Or enormous streams of people wandering through South by Southwest in Austin. People come together in the dozens or thousands and attend panels, ostensibly to learn; they attend presentations and brush up their skills, but there’s a secondary conference function, one of acculturation. You go to a technology conference to affirm your tribal identity, to transfer out of the throng of dilettantes and into the zone of the professional. You pick up swag and talk to vendors, if that’s your thing.\n",
    "\n",
    "# Python 2 vs Python 3 drama and notes\n",
    "\n",
    "- In 2008 python 3 was released. It is a technically \"better\" language (more consistent, efficient, better Unicode support) but it was not backwards compatible with python 2. This made people unhappy.\n",
    "    - division is by default integer division in python 2 but is floating point in python 3\n",
    "        - you can get python 3 division (and others similarly) in python 2 by including `from __future__ import division` in your python file\n",
    "    - instead of `print \"Hello World\"` you now have to do `print(\"Hello World\")` in python 3. In some ways this is a small change, in other ways it's a huge change that got people most upset\n",
    "- Python 2 \"just worked\" so adoption has been slow. As of 2015, more people were still using python 2 [[citation]](http://stackoverflow.com/questions/30751668/python-2-vs-python-3-2015-usage)\n",
    "- Part of the problem is that every major library had to be rewritten in python 3, so many did not support python 3 for a while\n",
    "- I still use python 2"
   ]
  },
  {
   "cell_type": "markdown",
   "metadata": {},
   "source": [
    "# Resources (i.e. where I learned Python)\n",
    "\n",
    "- [Udacity](udacity.com)\n",
    "    - [CS 212 - Design of Computer Programs](https://www.udacity.com/course/design-of-computer-programs--cs212) - Taught by Peter Norvig, director of Research of Google and author of the standard book in AI (used in UCLA's CS 161). Probably my favorite class I've ever taken. Most of things in this workshop come from there.\n",
    "    - [CS 373 - Programming a Robotic Car](https://www.udacity.com/course/artificial-intelligence-for-robotics--cs373) - Taught by Sebastian Thrun, who started the autonomous car project at Google. Not python per se, but you get practice doing something cool in python and some numerical computing stuff\n",
    "    - [CS 253 - Web App Development](https://www.udacity.com/course/web-development--cs253) - Taught by Steve Huffman, co-founder of reddit. Teaches you how to build a blog and wiki from scratch using python and Google App Engine\n",
    "- Books\n",
    "    - There was a one python book at my local library, just checked that out and read it"
   ]
  },
  {
   "cell_type": "code",
   "execution_count": null,
   "metadata": {
    "collapsed": true
   },
   "outputs": [],
   "source": []
  }
 ],
 "metadata": {
  "kernelspec": {
   "display_name": "Python 2",
   "language": "python",
   "name": "python2"
  },
  "language_info": {
   "codemirror_mode": {
    "name": "ipython",
    "version": 2
   },
   "file_extension": ".py",
   "mimetype": "text/x-python",
   "name": "python",
   "nbconvert_exporter": "python",
   "pygments_lexer": "ipython2",
   "version": "2.7.10"
  }
 },
 "nbformat": 4,
 "nbformat_minor": 0
}
